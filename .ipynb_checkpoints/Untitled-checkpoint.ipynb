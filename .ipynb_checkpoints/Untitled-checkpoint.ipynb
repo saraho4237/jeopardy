{
 "cells": [
  {
   "cell_type": "code",
   "execution_count": 27,
   "metadata": {},
   "outputs": [],
   "source": [
    "import pickle as pickle\n",
    "from numpy.random import randint\n",
    "import pandas as pd\n"
   ]
  },
  {
   "cell_type": "code",
   "execution_count": 4,
   "metadata": {},
   "outputs": [],
   "source": [
    "with open('my_app/data/jeopardy_df.pkl','rb') as f:\n",
    "    model = pickle.load(f)"
   ]
  },
  {
   "cell_type": "code",
   "execution_count": 21,
   "metadata": {},
   "outputs": [],
   "source": [
    "def start_app(num):\n",
    "    model.reset_index()\n",
    "    return(model.iloc[num,:])"
   ]
  },
  {
   "cell_type": "code",
   "execution_count": 22,
   "metadata": {},
   "outputs": [
    {
     "data": {
      "text/plain": [
       "sports                                         0.0113747\n",
       "hist                                           0.0113689\n",
       "sci                                              0.11474\n",
       "music                                          0.0113687\n",
       "geo                                            0.0113749\n",
       "lit                                             0.721203\n",
       "cuisine                                         0.107198\n",
       "film                                           0.0113707\n",
       "answer                                              zero\n",
       "question            In a numerical sense naught zip nada\n",
       "category                                   IT'S A PLANE!\n",
       "value                                               $200\n",
       "episode_air_date                              2007-05-23\n",
       "round                                          Jeopardy!\n",
       "Name: 39634, dtype: object"
      ]
     },
     "execution_count": 22,
     "metadata": {},
     "output_type": "execute_result"
    }
   ],
   "source": [
    "start_app(True)"
   ]
  },
  {
   "cell_type": "code",
   "execution_count": 13,
   "metadata": {},
   "outputs": [
    {
     "data": {
      "text/plain": [
       "Index(['sports', 'hist', 'sci', 'music', 'geo', 'lit', 'cuisine', 'film',\n",
       "       'answer', 'question', 'category', 'value', 'episode_air_date', 'round'],\n",
       "      dtype='object')"
      ]
     },
     "execution_count": 13,
     "metadata": {},
     "output_type": "execute_result"
    }
   ],
   "source": [
    "model.columns"
   ]
  },
  {
   "cell_type": "code",
   "execution_count": 24,
   "metadata": {},
   "outputs": [
    {
     "data": {
      "text/plain": [
       "pandas.core.series.Series"
      ]
     },
     "execution_count": 24,
     "metadata": {},
     "output_type": "execute_result"
    }
   ],
   "source": [
    "type(model.iloc[205,:])"
   ]
  },
  {
   "cell_type": "code",
   "execution_count": 25,
   "metadata": {},
   "outputs": [
    {
     "data": {
      "text/plain": [
       "Index(['sports', 'hist', 'sci', 'music', 'geo', 'lit', 'cuisine', 'film',\n",
       "       'answer', 'question', 'category', 'value', 'episode_air_date', 'round'],\n",
       "      dtype='object')"
      ]
     },
     "execution_count": 25,
     "metadata": {},
     "output_type": "execute_result"
    }
   ],
   "source": [
    "model.columns"
   ]
  },
  {
   "cell_type": "code",
   "execution_count": 30,
   "metadata": {},
   "outputs": [
    {
     "data": {
      "text/plain": [
       "sports                                                      0.0178957\n",
       "hist                                                        0.0178921\n",
       "sci                                                         0.0178587\n",
       "music                                                       0.0178773\n",
       "geo                                                         0.0178711\n",
       "lit                                                          0.718172\n",
       "cuisine                                                     0.0178571\n",
       "film                                                         0.174576\n",
       "answer                                                 Prince William\n",
       "question            Hes the older son of Prince Charles and the la...\n",
       "category                                               JUST THE FACTS\n",
       "value                                                           $2000\n",
       "episode_air_date                                           2010-07-06\n",
       "round                                                Double Jeopardy!\n",
       "Name: 100, dtype: object"
      ]
     },
     "execution_count": 30,
     "metadata": {},
     "output_type": "execute_result"
    }
   ],
   "source": [
    "q=model.iloc[100,:]\n",
    "df=pd.DataFrame(q)\n",
    "# df.columns=['sports', 'hist', 'sci', 'music', 'geo', 'lit', 'cuisine', 'film','answer', 'question', 'category', 'value', 'episode_air_date', 'round']\n",
    "q"
   ]
  },
  {
   "cell_type": "code",
   "execution_count": null,
   "metadata": {},
   "outputs": [],
   "source": []
  }
 ],
 "metadata": {
  "kernelspec": {
   "display_name": "Python 3",
   "language": "python",
   "name": "python3"
  },
  "language_info": {
   "codemirror_mode": {
    "name": "ipython",
    "version": 3
   },
   "file_extension": ".py",
   "mimetype": "text/x-python",
   "name": "python",
   "nbconvert_exporter": "python",
   "pygments_lexer": "ipython3",
   "version": "3.7.1"
  }
 },
 "nbformat": 4,
 "nbformat_minor": 2
}
